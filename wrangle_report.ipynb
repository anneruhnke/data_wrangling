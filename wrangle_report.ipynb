{
 "cells": [
  {
   "cell_type": "markdown",
   "id": "contrary-montreal",
   "metadata": {},
   "source": [
    "# Description of wrangling efforts\n",
    "\n",
    "As a first step, all necessary libraries were installed.\n",
    "\n",
    "Afterwards, the wrangling process followed the three steps of gather, assess and clean.\n",
    "\n",
    "## 1. Step: Gather\n",
    "\n",
    "The analysis is based on three data sources which were gathered in different ways.\n",
    "\n",
    "The first data source (‘WeRateDogs Twitter archive’) is a csv file and was uploaded to the Jupyter notebook as a pandas data frame. It contains basic tweet information.\n",
    "\n",
    "The second data source (‘Image Prediction’) is a tsv file which was downloaded from a website. The file was saved and uploaded to the Jupyter notebook as a pandas data frame. It contains information about the dog breed which is present in each tweet according to a neural network.\n",
    "\n",
    "The third data source (‘Twitter API’) was accessed via the Twitter API and saved in a json format. Afterwards, the data was uploaded to a pandas data frame. \n",
    "\n",
    "## 2. Step: Assess\n",
    "\n",
    "The data was assess visually and programmatically for quality and tidiness issues.\n",
    "\n",
    "The visual assessment was done in the Jupyter notebook using pandas functions like df.head() or df.sample() and assessing a subset of the data. \n",
    "\n",
    "The programmatical assessment was also done in the Jupyter notebook using pandas functions like df.info() and df.describe(). \n",
    "\n",
    "This was followed by a closer analysis if a possible issue was identified.\n",
    "All the issues were document.\n",
    "\n",
    "## 3. Step: Clean\n",
    "\n",
    "The cleaning process took place in three steps. The define, code and test step.\n",
    "\n",
    "A first step was to copy all the data to new data frames, to avoid manipulating the original data. \n",
    "\n",
    "Afterwards, the issues that were identified during the assess step were defined as to dos. Specific code was implemented to clean the issues and afterwards a test was done to review the results.\n",
    "\n",
    "After the main three steps of gather, assess and clean, a clean dataset was saved as a csv file.\n"
   ]
  }
 ],
 "metadata": {
  "kernelspec": {
   "display_name": "Python 3",
   "language": "python",
   "name": "python3"
  },
  "language_info": {
   "codemirror_mode": {
    "name": "ipython",
    "version": 3
   },
   "file_extension": ".py",
   "mimetype": "text/x-python",
   "name": "python",
   "nbconvert_exporter": "python",
   "pygments_lexer": "ipython3",
   "version": "3.8.8"
  }
 },
 "nbformat": 4,
 "nbformat_minor": 5
}
